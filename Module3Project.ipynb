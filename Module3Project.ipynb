{
 "cells": [
  {
   "cell_type": "code",
   "execution_count": 1,
   "metadata": {},
   "outputs": [],
   "source": [
    "import requests as req\n",
    "import pandas as pd\n",
    "from bs4 import BeautifulSoup as soup"
   ]
  },
  {
   "cell_type": "code",
   "execution_count": 2,
   "metadata": {},
   "outputs": [],
   "source": [
    "response = req.get('https://btech-data-analytics.github.io/bridgerland-technical-college/bookstore.html').text"
   ]
  },
  {
   "cell_type": "code",
   "execution_count": 3,
   "metadata": {},
   "outputs": [],
   "source": [
    "soup = soup(response, 'html.parser')"
   ]
  },
  {
   "cell_type": "code",
   "execution_count": 6,
   "metadata": {},
   "outputs": [
    {
     "data": {
      "text/plain": [
       "<table class=\"w3-table-all w3-hoverable w3-small\">\n",
       "<thead>\n",
       "<tr>\n",
       "<th>ISBN</th>\n",
       "<th>Title</th>\n",
       "<th>Author</th>\n",
       "<th>Language</th>\n",
       "<th>Pages</th>\n",
       "<th>Topic</th>\n",
       "<th>Price</th>\n",
       "<th></th>\n",
       "</tr>\n",
       "</thead>\n",
       "<tr class=\"book\">\n",
       "<td>978-1234567890</td>\n",
       "<td>Whiskers of Wisdom: Tales from Feline Philosophers</td>\n",
       "<td>Penelope Wainwright</td>\n",
       "<td>English</td>\n",
       "<td>256</td>\n",
       "<td>Cats</td>\n",
       "<td>$19.99</td>\n",
       "<td><button>Buy now</button></td>\n",
       "</tr>\n",
       "<tr class=\"book\">\n",
       "<td>978-2345678901</td>\n",
       "<td>Purrfectly Pawesome: A Cat's Life</td>\n",
       "<td>Jasper Sterling</td>\n",
       "<td>English</td>\n",
       "<td>192</td>\n",
       "<td>Cats</td>\n",
       "<td>$15.99</td>\n",
       "<td><button>Buy now</button></td>\n",
       "</tr>\n",
       "<tr class=\"book\">\n",
       "<td>978-3456789012</td>\n",
       "<td>Cat Tales: Adventures in Whiskerland</td>\n",
       "<td>Penelope Wainwright</td>\n",
       "<td>English</td>\n",
       "<td>320</td>\n",
       "<td>Cats</td>\n",
       "<td>$21.99</td>\n",
       "<td><button>Buy now</button></td>\n",
       "</tr>\n",
       "<tr class=\"book\">\n",
       "<td>978-4567890123</td>\n",
       "<td>The Enigmatic Paws: Mysteries of Meowville</td>\n",
       "<td>Maximilian Thorne</td>\n",
       "<td>English</td>\n",
       "<td>288</td>\n",
       "<td>Cats</td>\n",
       "<td>$17.99</td>\n",
       "<td><button>Buy now</button></td>\n",
       "</tr>\n",
       "<tr class=\"book\">\n",
       "<td>978-5678901234</td>\n",
       "<td>Cats in Wonderland</td>\n",
       "<td>Isadora Harrington</td>\n",
       "<td>English</td>\n",
       "<td>224</td>\n",
       "<td>Cats</td>\n",
       "<td>$16.99</td>\n",
       "<td><button>Buy now</button></td>\n",
       "</tr>\n",
       "<tr class=\"book\">\n",
       "<td>978-6789012345</td>\n",
       "<td>Whisker Wisdom: Life Lessons from Feline Sages</td>\n",
       "<td>Penelope Wainwright</td>\n",
       "<td>English</td>\n",
       "<td>288</td>\n",
       "<td>Cats</td>\n",
       "<td>$20.99</td>\n",
       "<td><button>Buy now</button></td>\n",
       "</tr>\n",
       "<tr class=\"book\">\n",
       "<td>978-7890123456</td>\n",
       "<td>Catnip Chronicles: A Purrfect Journey</td>\n",
       "<td>Jasper Sterling</td>\n",
       "<td>English</td>\n",
       "<td>192</td>\n",
       "<td>Cats</td>\n",
       "<td>$14.99</td>\n",
       "<td><button>Buy now</button></td>\n",
       "</tr>\n",
       "<tr class=\"book\">\n",
       "<td>978-8901234567</td>\n",
       "<td>Cat-astrophe: Tales of Misadventures</td>\n",
       "<td>Celeste Nightshade</td>\n",
       "<td>English</td>\n",
       "<td>240</td>\n",
       "<td>Cats</td>\n",
       "<td>$18.99</td>\n",
       "<td><button>Buy now</button></td>\n",
       "</tr>\n",
       "<tr class=\"book\">\n",
       "<td>978-9012345678</td>\n",
       "<td>The Cat's Whisker: A Feline Fantasy</td>\n",
       "<td>Penelope Wainwright</td>\n",
       "<td>English</td>\n",
       "<td>208</td>\n",
       "<td>Cats</td>\n",
       "<td>$16.99</td>\n",
       "<td><button>Buy now</button></td>\n",
       "</tr>\n",
       "<tr class=\"book\">\n",
       "<td>978-0123456789</td>\n",
       "<td>Fur and Friendship: Stories of Feline Companions</td>\n",
       "<td>Seraphina Montague</td>\n",
       "<td>English</td>\n",
       "<td>176</td>\n",
       "<td>Cats</td>\n",
       "<td>$12.99</td>\n",
       "<td><button>Buy now</button></td>\n",
       "</tr>\n",
       "<tr class=\"book\">\n",
       "<td>978-1234567890</td>\n",
       "<td>Tails of Loyalty: Canine Chronicles</td>\n",
       "<td>Benjamin Barkley</td>\n",
       "<td>English</td>\n",
       "<td>256</td>\n",
       "<td>Dogs</td>\n",
       "<td>$29.99</td>\n",
       "<td><button>Buy now</button></td>\n",
       "</tr>\n",
       "<tr class=\"book\">\n",
       "<td>978-2345678901</td>\n",
       "<td>Pawsitive Adventures: A Dog's Journey</td>\n",
       "<td>Sophie Shepherd</td>\n",
       "<td>English</td>\n",
       "<td>192</td>\n",
       "<td>Dogs</td>\n",
       "<td>$25.99</td>\n",
       "<td><button>Buy now</button></td>\n",
       "</tr>\n",
       "<tr class=\"book\">\n",
       "<td>978-3456789012</td>\n",
       "<td>Barking Wisdom: Lessons from Wise Canines</td>\n",
       "<td>Oliver Obedience</td>\n",
       "<td>English</td>\n",
       "<td>320</td>\n",
       "<td>Dogs</td>\n",
       "<td>$21.99</td>\n",
       "<td><button>Buy now</button></td>\n",
       "</tr>\n",
       "<tr class=\"book\">\n",
       "<td>978-4567890123</td>\n",
       "<td>Dogged Determination: Stories of Resilient Pooches</td>\n",
       "<td>Ruby Ruffington</td>\n",
       "<td>English</td>\n",
       "<td>288</td>\n",
       "<td>Dogs</td>\n",
       "<td>$27.99</td>\n",
       "<td><button>Buy now</button></td>\n",
       "</tr>\n",
       "<tr class=\"book\">\n",
       "<td>978-5678901234</td>\n",
       "<td>The Bark Brigade: Canine Heroes Among Us</td>\n",
       "<td>Benjamin Barkley</td>\n",
       "<td>English</td>\n",
       "<td>224</td>\n",
       "<td>Dogs</td>\n",
       "<td>$26.99</td>\n",
       "<td><button>Buy now</button></td>\n",
       "</tr>\n",
       "</table>"
      ]
     },
     "execution_count": 6,
     "metadata": {},
     "output_type": "execute_result"
    }
   ],
   "source": [
    "soup.find('table')"
   ]
  },
  {
   "cell_type": "code",
   "execution_count": 20,
   "metadata": {},
   "outputs": [],
   "source": [
    "Author = []\n",
    "Topic = []\n",
    "Price = []\n",
    "Title = []\n",
    "Pages = []\n",
    "for book in soup.find('table').find_all('tr', class_='book'):\n",
    "    Author.append(book.find_all('td')[2].text)\n",
    "    Topic.append(book.find_all('td')[5].text)\n",
    "    Price.append(book.find_all('td')[6].text)\n",
    "    Title.append(book.find_all('td')[1].text)\n",
    "    Pages.append(book.find_all('td')[4].text)"
   ]
  },
  {
   "cell_type": "code",
   "execution_count": 21,
   "metadata": {},
   "outputs": [
    {
     "data": {
      "text/html": [
       "<div>\n",
       "<style scoped>\n",
       "    .dataframe tbody tr th:only-of-type {\n",
       "        vertical-align: middle;\n",
       "    }\n",
       "\n",
       "    .dataframe tbody tr th {\n",
       "        vertical-align: top;\n",
       "    }\n",
       "\n",
       "    .dataframe thead th {\n",
       "        text-align: right;\n",
       "    }\n",
       "</style>\n",
       "<table border=\"1\" class=\"dataframe\">\n",
       "  <thead>\n",
       "    <tr style=\"text-align: right;\">\n",
       "      <th></th>\n",
       "      <th>Title</th>\n",
       "      <th>Pages</th>\n",
       "      <th>Author</th>\n",
       "      <th>Topic</th>\n",
       "      <th>Price</th>\n",
       "    </tr>\n",
       "  </thead>\n",
       "  <tbody>\n",
       "    <tr>\n",
       "      <th>0</th>\n",
       "      <td>Whiskers of Wisdom: Tales from Feline Philosop...</td>\n",
       "      <td>256</td>\n",
       "      <td>Penelope Wainwright</td>\n",
       "      <td>Cats</td>\n",
       "      <td>$19.99</td>\n",
       "    </tr>\n",
       "    <tr>\n",
       "      <th>1</th>\n",
       "      <td>Purrfectly Pawesome: A Cat's Life</td>\n",
       "      <td>192</td>\n",
       "      <td>Jasper Sterling</td>\n",
       "      <td>Cats</td>\n",
       "      <td>$15.99</td>\n",
       "    </tr>\n",
       "    <tr>\n",
       "      <th>2</th>\n",
       "      <td>Cat Tales: Adventures in Whiskerland</td>\n",
       "      <td>320</td>\n",
       "      <td>Penelope Wainwright</td>\n",
       "      <td>Cats</td>\n",
       "      <td>$21.99</td>\n",
       "    </tr>\n",
       "    <tr>\n",
       "      <th>3</th>\n",
       "      <td>The Enigmatic Paws: Mysteries of Meowville</td>\n",
       "      <td>288</td>\n",
       "      <td>Maximilian Thorne</td>\n",
       "      <td>Cats</td>\n",
       "      <td>$17.99</td>\n",
       "    </tr>\n",
       "    <tr>\n",
       "      <th>4</th>\n",
       "      <td>Cats in Wonderland</td>\n",
       "      <td>224</td>\n",
       "      <td>Isadora Harrington</td>\n",
       "      <td>Cats</td>\n",
       "      <td>$16.99</td>\n",
       "    </tr>\n",
       "  </tbody>\n",
       "</table>\n",
       "</div>"
      ],
      "text/plain": [
       "                                               Title Pages  \\\n",
       "0  Whiskers of Wisdom: Tales from Feline Philosop...   256   \n",
       "1                  Purrfectly Pawesome: A Cat's Life   192   \n",
       "2               Cat Tales: Adventures in Whiskerland   320   \n",
       "3         The Enigmatic Paws: Mysteries of Meowville   288   \n",
       "4                                 Cats in Wonderland   224   \n",
       "\n",
       "                Author Topic   Price  \n",
       "0  Penelope Wainwright  Cats  $19.99  \n",
       "1      Jasper Sterling  Cats  $15.99  \n",
       "2  Penelope Wainwright  Cats  $21.99  \n",
       "3    Maximilian Thorne  Cats  $17.99  \n",
       "4   Isadora Harrington  Cats  $16.99  "
      ]
     },
     "execution_count": 21,
     "metadata": {},
     "output_type": "execute_result"
    }
   ],
   "source": [
    "df = pd.DataFrame({\n",
    "    'Title': Title,\n",
    "    'Pages': Pages,\n",
    "    'Author': Author,\n",
    "    'Topic': Topic,\n",
    "    'Price': Price\n",
    "})\n",
    "df.head()"
   ]
  },
  {
   "cell_type": "code",
   "execution_count": 24,
   "metadata": {},
   "outputs": [],
   "source": [
    "df['Price'] = df['Price'].str[1:] \n",
    "df['Price'] = pd.to_numeric(df['Price'])\n",
    "df['Pages'] = pd.to_numeric(df['Pages'])"
   ]
  },
  {
   "cell_type": "code",
   "execution_count": 14,
   "metadata": {},
   "outputs": [
    {
     "data": {
      "text/plain": [
       "Author\n",
       "Penelope Wainwright    4\n",
       "Jasper Sterling        2\n",
       "Benjamin Barkley       2\n",
       "Maximilian Thorne      1\n",
       "Isadora Harrington     1\n",
       "Celeste Nightshade     1\n",
       "Seraphina Montague     1\n",
       "Sophie Shepherd        1\n",
       "Oliver Obedience       1\n",
       "Ruby Ruffington        1\n",
       "Name: count, dtype: int64"
      ]
     },
     "execution_count": 14,
     "metadata": {},
     "output_type": "execute_result"
    }
   ],
   "source": [
    "df['Author'].value_counts()"
   ]
  },
  {
   "cell_type": "code",
   "execution_count": 15,
   "metadata": {},
   "outputs": [
    {
     "data": {
      "text/plain": [
       "Topic\n",
       "Cats    10\n",
       "Dogs     5\n",
       "Name: count, dtype: int64"
      ]
     },
     "execution_count": 15,
     "metadata": {},
     "output_type": "execute_result"
    }
   ],
   "source": [
    "df['Topic'].value_counts()"
   ]
  },
  {
   "cell_type": "code",
   "execution_count": 19,
   "metadata": {},
   "outputs": [
    {
     "data": {
      "text/plain": [
       "Topic\n",
       "Cats    17.79\n",
       "Dogs    26.59\n",
       "Name: Price, dtype: float64"
      ]
     },
     "execution_count": 19,
     "metadata": {},
     "output_type": "execute_result"
    }
   ],
   "source": [
    "df.groupby('Topic')['Price'].mean()"
   ]
  },
  {
   "cell_type": "code",
   "execution_count": 25,
   "metadata": {},
   "outputs": [
    {
     "data": {
      "text/plain": [
       "Topic\n",
       "Cats    238.4\n",
       "Dogs    256.0\n",
       "Name: Pages, dtype: float64"
      ]
     },
     "execution_count": 25,
     "metadata": {},
     "output_type": "execute_result"
    }
   ],
   "source": [
    "df.groupby('Topic')['Pages'].mean()"
   ]
  }
 ],
 "metadata": {
  "kernelspec": {
   "display_name": "Python 3",
   "language": "python",
   "name": "python3"
  },
  "language_info": {
   "codemirror_mode": {
    "name": "ipython",
    "version": 3
   },
   "file_extension": ".py",
   "mimetype": "text/x-python",
   "name": "python",
   "nbconvert_exporter": "python",
   "pygments_lexer": "ipython3",
   "version": "3.12.6"
  }
 },
 "nbformat": 4,
 "nbformat_minor": 2
}
